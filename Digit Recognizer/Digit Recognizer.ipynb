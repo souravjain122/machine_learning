{
 "cells": [
  {
   "cell_type": "code",
   "execution_count": 1,
   "id": "842bf168",
   "metadata": {},
   "outputs": [],
   "source": [
    "import pandas as pd\n",
    "import numpy as np\n",
    "from sklearn.model_selection import train_test_split\n",
    "from tensorflow.keras.models import Sequential\n",
    "from tensorflow.keras.layers import Dense, Dropout\n",
    "from tensorflow.keras.utils import to_categorical\n",
    "from sklearn.metrics import accuracy_score, classification_report\n",
    "from sklearn.svm import SVC\n",
    "from sklearn.ensemble import RandomForestClassifier\n",
    "import xgboost as xgb\n",
    "from sklearn.linear_model import LogisticRegression"
   ]
  },
  {
   "cell_type": "code",
   "execution_count": 2,
   "id": "eb925de9",
   "metadata": {},
   "outputs": [
    {
     "data": {
      "text/html": [
       "<div>\n",
       "<style scoped>\n",
       "    .dataframe tbody tr th:only-of-type {\n",
       "        vertical-align: middle;\n",
       "    }\n",
       "\n",
       "    .dataframe tbody tr th {\n",
       "        vertical-align: top;\n",
       "    }\n",
       "\n",
       "    .dataframe thead th {\n",
       "        text-align: right;\n",
       "    }\n",
       "</style>\n",
       "<table border=\"1\" class=\"dataframe\">\n",
       "  <thead>\n",
       "    <tr style=\"text-align: right;\">\n",
       "      <th></th>\n",
       "      <th>label</th>\n",
       "      <th>pixel0</th>\n",
       "      <th>pixel1</th>\n",
       "      <th>pixel2</th>\n",
       "      <th>pixel3</th>\n",
       "      <th>pixel4</th>\n",
       "      <th>pixel5</th>\n",
       "      <th>pixel6</th>\n",
       "      <th>pixel7</th>\n",
       "      <th>pixel8</th>\n",
       "      <th>...</th>\n",
       "      <th>pixel774</th>\n",
       "      <th>pixel775</th>\n",
       "      <th>pixel776</th>\n",
       "      <th>pixel777</th>\n",
       "      <th>pixel778</th>\n",
       "      <th>pixel779</th>\n",
       "      <th>pixel780</th>\n",
       "      <th>pixel781</th>\n",
       "      <th>pixel782</th>\n",
       "      <th>pixel783</th>\n",
       "    </tr>\n",
       "  </thead>\n",
       "  <tbody>\n",
       "    <tr>\n",
       "      <th>0</th>\n",
       "      <td>1</td>\n",
       "      <td>0</td>\n",
       "      <td>0</td>\n",
       "      <td>0</td>\n",
       "      <td>0</td>\n",
       "      <td>0</td>\n",
       "      <td>0</td>\n",
       "      <td>0</td>\n",
       "      <td>0</td>\n",
       "      <td>0</td>\n",
       "      <td>...</td>\n",
       "      <td>0</td>\n",
       "      <td>0</td>\n",
       "      <td>0</td>\n",
       "      <td>0</td>\n",
       "      <td>0</td>\n",
       "      <td>0</td>\n",
       "      <td>0</td>\n",
       "      <td>0</td>\n",
       "      <td>0</td>\n",
       "      <td>0</td>\n",
       "    </tr>\n",
       "    <tr>\n",
       "      <th>1</th>\n",
       "      <td>0</td>\n",
       "      <td>0</td>\n",
       "      <td>0</td>\n",
       "      <td>0</td>\n",
       "      <td>0</td>\n",
       "      <td>0</td>\n",
       "      <td>0</td>\n",
       "      <td>0</td>\n",
       "      <td>0</td>\n",
       "      <td>0</td>\n",
       "      <td>...</td>\n",
       "      <td>0</td>\n",
       "      <td>0</td>\n",
       "      <td>0</td>\n",
       "      <td>0</td>\n",
       "      <td>0</td>\n",
       "      <td>0</td>\n",
       "      <td>0</td>\n",
       "      <td>0</td>\n",
       "      <td>0</td>\n",
       "      <td>0</td>\n",
       "    </tr>\n",
       "    <tr>\n",
       "      <th>2</th>\n",
       "      <td>1</td>\n",
       "      <td>0</td>\n",
       "      <td>0</td>\n",
       "      <td>0</td>\n",
       "      <td>0</td>\n",
       "      <td>0</td>\n",
       "      <td>0</td>\n",
       "      <td>0</td>\n",
       "      <td>0</td>\n",
       "      <td>0</td>\n",
       "      <td>...</td>\n",
       "      <td>0</td>\n",
       "      <td>0</td>\n",
       "      <td>0</td>\n",
       "      <td>0</td>\n",
       "      <td>0</td>\n",
       "      <td>0</td>\n",
       "      <td>0</td>\n",
       "      <td>0</td>\n",
       "      <td>0</td>\n",
       "      <td>0</td>\n",
       "    </tr>\n",
       "    <tr>\n",
       "      <th>3</th>\n",
       "      <td>4</td>\n",
       "      <td>0</td>\n",
       "      <td>0</td>\n",
       "      <td>0</td>\n",
       "      <td>0</td>\n",
       "      <td>0</td>\n",
       "      <td>0</td>\n",
       "      <td>0</td>\n",
       "      <td>0</td>\n",
       "      <td>0</td>\n",
       "      <td>...</td>\n",
       "      <td>0</td>\n",
       "      <td>0</td>\n",
       "      <td>0</td>\n",
       "      <td>0</td>\n",
       "      <td>0</td>\n",
       "      <td>0</td>\n",
       "      <td>0</td>\n",
       "      <td>0</td>\n",
       "      <td>0</td>\n",
       "      <td>0</td>\n",
       "    </tr>\n",
       "    <tr>\n",
       "      <th>4</th>\n",
       "      <td>0</td>\n",
       "      <td>0</td>\n",
       "      <td>0</td>\n",
       "      <td>0</td>\n",
       "      <td>0</td>\n",
       "      <td>0</td>\n",
       "      <td>0</td>\n",
       "      <td>0</td>\n",
       "      <td>0</td>\n",
       "      <td>0</td>\n",
       "      <td>...</td>\n",
       "      <td>0</td>\n",
       "      <td>0</td>\n",
       "      <td>0</td>\n",
       "      <td>0</td>\n",
       "      <td>0</td>\n",
       "      <td>0</td>\n",
       "      <td>0</td>\n",
       "      <td>0</td>\n",
       "      <td>0</td>\n",
       "      <td>0</td>\n",
       "    </tr>\n",
       "  </tbody>\n",
       "</table>\n",
       "<p>5 rows × 785 columns</p>\n",
       "</div>"
      ],
      "text/plain": [
       "   label  pixel0  pixel1  pixel2  pixel3  pixel4  pixel5  pixel6  pixel7  \\\n",
       "0      1       0       0       0       0       0       0       0       0   \n",
       "1      0       0       0       0       0       0       0       0       0   \n",
       "2      1       0       0       0       0       0       0       0       0   \n",
       "3      4       0       0       0       0       0       0       0       0   \n",
       "4      0       0       0       0       0       0       0       0       0   \n",
       "\n",
       "   pixel8  ...  pixel774  pixel775  pixel776  pixel777  pixel778  pixel779  \\\n",
       "0       0  ...         0         0         0         0         0         0   \n",
       "1       0  ...         0         0         0         0         0         0   \n",
       "2       0  ...         0         0         0         0         0         0   \n",
       "3       0  ...         0         0         0         0         0         0   \n",
       "4       0  ...         0         0         0         0         0         0   \n",
       "\n",
       "   pixel780  pixel781  pixel782  pixel783  \n",
       "0         0         0         0         0  \n",
       "1         0         0         0         0  \n",
       "2         0         0         0         0  \n",
       "3         0         0         0         0  \n",
       "4         0         0         0         0  \n",
       "\n",
       "[5 rows x 785 columns]"
      ]
     },
     "execution_count": 2,
     "metadata": {},
     "output_type": "execute_result"
    }
   ],
   "source": [
    "df = pd.read_csv(\"train.csv\")\n",
    "df.head()"
   ]
  },
  {
   "cell_type": "code",
   "execution_count": 3,
   "id": "4345949f",
   "metadata": {},
   "outputs": [],
   "source": [
    "X = df.drop(['label'], axis = 1)\n",
    "y = df['label']"
   ]
  },
  {
   "cell_type": "code",
   "execution_count": 4,
   "id": "646a5585",
   "metadata": {
    "scrolled": true
   },
   "outputs": [],
   "source": [
    "# Split into training and testing sets\n",
    "X_train, X_test, y_train, y_test = train_test_split(X, y, test_size=0.2, random_state=42)"
   ]
  },
  {
   "cell_type": "code",
   "execution_count": 5,
   "id": "07dfc9aa",
   "metadata": {},
   "outputs": [],
   "source": [
    "# Normalize the pixel values\n",
    "X_train = X_train/255.0\n",
    "X_test = X_test/255.0"
   ]
  },
  {
   "cell_type": "markdown",
   "id": "61e19bb9",
   "metadata": {},
   "source": [
    "## Neural Networks"
   ]
  },
  {
   "cell_type": "code",
   "execution_count": 6,
   "id": "868d82a3",
   "metadata": {},
   "outputs": [],
   "source": [
    "# Convert targets to categorical format (one-hot encoding)\n",
    "y_train_cat = to_categorical(y_train.astype(int), 10)\n",
    "y_test_cat = to_categorical(y_test.astype(int), 10)"
   ]
  },
  {
   "cell_type": "code",
   "execution_count": 7,
   "id": "451b443c",
   "metadata": {},
   "outputs": [],
   "source": [
    "# Build a simple feedforward neural network\n",
    "nn_model = Sequential([\n",
    "    Dense(512, activation='relu', input_shape=(784,)),\n",
    "    Dropout(0.2),\n",
    "    Dense(256, activation='relu'),\n",
    "    Dropout(0.2),\n",
    "    Dense(128, activation='relu'),\n",
    "    Dropout(0.2),\n",
    "    Dense(10, activation='softmax')  # 10 output classes\n",
    "])"
   ]
  },
  {
   "cell_type": "code",
   "execution_count": 8,
   "id": "84641378",
   "metadata": {},
   "outputs": [],
   "source": [
    "# Compile the model\n",
    "nn_model.compile(optimizer='adam', loss='categorical_crossentropy', metrics=['accuracy'])"
   ]
  },
  {
   "cell_type": "code",
   "execution_count": 9,
   "id": "40e71a56",
   "metadata": {
    "scrolled": true
   },
   "outputs": [
    {
     "name": "stdout",
     "output_type": "stream",
     "text": [
      "Epoch 1/20\n",
      "840/840 [==============================] - 6s 6ms/step - loss: 0.3407 - accuracy: 0.8962 - val_loss: 0.1551 - val_accuracy: 0.9524\n",
      "Epoch 2/20\n",
      "840/840 [==============================] - 5s 6ms/step - loss: 0.1519 - accuracy: 0.9536 - val_loss: 0.1281 - val_accuracy: 0.9626\n",
      "Epoch 3/20\n",
      "840/840 [==============================] - 5s 6ms/step - loss: 0.1162 - accuracy: 0.9650 - val_loss: 0.1109 - val_accuracy: 0.9699\n",
      "Epoch 4/20\n",
      "840/840 [==============================] - 6s 7ms/step - loss: 0.0951 - accuracy: 0.9718 - val_loss: 0.1224 - val_accuracy: 0.9668\n",
      "Epoch 5/20\n",
      "840/840 [==============================] - 5s 6ms/step - loss: 0.0798 - accuracy: 0.9763 - val_loss: 0.1065 - val_accuracy: 0.9707\n",
      "Epoch 6/20\n",
      "840/840 [==============================] - 5s 6ms/step - loss: 0.0648 - accuracy: 0.9800 - val_loss: 0.1239 - val_accuracy: 0.9688\n",
      "Epoch 7/20\n",
      "840/840 [==============================] - 5s 6ms/step - loss: 0.0633 - accuracy: 0.9804 - val_loss: 0.1097 - val_accuracy: 0.9751\n",
      "Epoch 8/20\n",
      "840/840 [==============================] - 6s 7ms/step - loss: 0.0544 - accuracy: 0.9831 - val_loss: 0.1171 - val_accuracy: 0.9735\n",
      "Epoch 9/20\n",
      "840/840 [==============================] - 6s 7ms/step - loss: 0.0496 - accuracy: 0.9847 - val_loss: 0.1441 - val_accuracy: 0.9686\n",
      "Epoch 10/20\n",
      "840/840 [==============================] - 5s 6ms/step - loss: 0.0469 - accuracy: 0.9860 - val_loss: 0.1285 - val_accuracy: 0.9723\n",
      "Epoch 11/20\n",
      "840/840 [==============================] - 5s 6ms/step - loss: 0.0408 - accuracy: 0.9868 - val_loss: 0.1270 - val_accuracy: 0.9754\n",
      "Epoch 12/20\n",
      "840/840 [==============================] - 5s 6ms/step - loss: 0.0429 - accuracy: 0.9869 - val_loss: 0.1288 - val_accuracy: 0.9746\n",
      "Epoch 13/20\n",
      "840/840 [==============================] - 5s 6ms/step - loss: 0.0362 - accuracy: 0.9894 - val_loss: 0.1402 - val_accuracy: 0.9751\n",
      "Epoch 14/20\n",
      "840/840 [==============================] - 6s 7ms/step - loss: 0.0346 - accuracy: 0.9890 - val_loss: 0.1340 - val_accuracy: 0.9741\n",
      "Epoch 15/20\n",
      "840/840 [==============================] - 6s 7ms/step - loss: 0.0318 - accuracy: 0.9899 - val_loss: 0.1340 - val_accuracy: 0.9769\n",
      "Epoch 16/20\n",
      "840/840 [==============================] - 5s 6ms/step - loss: 0.0299 - accuracy: 0.9901 - val_loss: 0.1495 - val_accuracy: 0.9763\n",
      "Epoch 17/20\n",
      "840/840 [==============================] - 5s 6ms/step - loss: 0.0291 - accuracy: 0.9911 - val_loss: 0.1237 - val_accuracy: 0.9783\n",
      "Epoch 18/20\n",
      "840/840 [==============================] - 6s 7ms/step - loss: 0.0272 - accuracy: 0.9917 - val_loss: 0.1513 - val_accuracy: 0.9749\n",
      "Epoch 19/20\n",
      "840/840 [==============================] - 5s 6ms/step - loss: 0.0293 - accuracy: 0.9909 - val_loss: 0.1623 - val_accuracy: 0.9750\n",
      "Epoch 20/20\n",
      "840/840 [==============================] - 5s 6ms/step - loss: 0.0267 - accuracy: 0.9913 - val_loss: 0.1565 - val_accuracy: 0.9763\n"
     ]
    },
    {
     "data": {
      "text/plain": [
       "<keras.src.callbacks.History at 0x1ce7765ce80>"
      ]
     },
     "execution_count": 9,
     "metadata": {},
     "output_type": "execute_result"
    }
   ],
   "source": [
    "# Train the model with a validation split for monitoring\n",
    "nn_model.fit(X_train, y_train_cat, validation_split=0.2, epochs=20, batch_size=32)"
   ]
  },
  {
   "cell_type": "code",
   "execution_count": 10,
   "id": "bf7223d6",
   "metadata": {},
   "outputs": [
    {
     "name": "stdout",
     "output_type": "stream",
     "text": [
      "263/263 [==============================] - 1s 2ms/step\n",
      "Accuracy: 0.9739285714285715\n",
      "Classification Report:\n",
      "               precision    recall  f1-score   support\n",
      "\n",
      "           0       0.99      0.99      0.99       816\n",
      "           1       0.99      0.99      0.99       909\n",
      "           2       0.95      0.97      0.96       846\n",
      "           3       0.96      0.97      0.96       937\n",
      "           4       0.97      0.98      0.98       839\n",
      "           5       0.96      0.97      0.96       702\n",
      "           6       0.99      0.98      0.98       785\n",
      "           7       0.97      0.97      0.97       893\n",
      "           8       0.98      0.97      0.97       835\n",
      "           9       0.99      0.95      0.97       838\n",
      "\n",
      "    accuracy                           0.97      8400\n",
      "   macro avg       0.97      0.97      0.97      8400\n",
      "weighted avg       0.97      0.97      0.97      8400\n",
      "\n"
     ]
    }
   ],
   "source": [
    "# Predict the classes for the test set\n",
    "y_pred = nn_model.predict(X_test)\n",
    "y_pred_classes = np.argmax(y_pred, axis=1)\n",
    "y_true_classes = np.argmax(y_test_cat, axis=1)\n",
    "\n",
    "print(\"Accuracy:\", accuracy_score(y_true_classes, y_pred_classes))\n",
    "print(\"Classification Report:\\n\", classification_report(y_true_classes, y_pred_classes))"
   ]
  },
  {
   "cell_type": "markdown",
   "id": "40bab718",
   "metadata": {},
   "source": [
    "## Support Vector Classifier"
   ]
  },
  {
   "cell_type": "code",
   "execution_count": 11,
   "id": "747c345a",
   "metadata": {},
   "outputs": [],
   "source": [
    "# Create an SVM model with RBF kernel\n",
    "svm_model = SVC(kernel='rbf', C=1.0, gamma='scale')  # Adjust hyperparameters as needed"
   ]
  },
  {
   "cell_type": "code",
   "execution_count": 12,
   "id": "c2494b46",
   "metadata": {},
   "outputs": [
    {
     "data": {
      "text/plain": [
       "SVC()"
      ]
     },
     "execution_count": 12,
     "metadata": {},
     "output_type": "execute_result"
    }
   ],
   "source": [
    "# Train the SVM model\n",
    "svm_model.fit(X_train, y_train)"
   ]
  },
  {
   "cell_type": "code",
   "execution_count": 13,
   "id": "2a8ba5a6",
   "metadata": {},
   "outputs": [
    {
     "name": "stdout",
     "output_type": "stream",
     "text": [
      "Accuracy: 0.973452380952381\n",
      "Classification Report:\n",
      "               precision    recall  f1-score   support\n",
      "\n",
      "           0       0.99      0.99      0.99       816\n",
      "           1       0.98      0.99      0.99       909\n",
      "           2       0.98      0.97      0.97       846\n",
      "           3       0.97      0.96      0.96       937\n",
      "           4       0.96      0.97      0.97       839\n",
      "           5       0.97      0.97      0.97       702\n",
      "           6       0.98      0.99      0.98       785\n",
      "           7       0.98      0.97      0.97       893\n",
      "           8       0.97      0.97      0.97       835\n",
      "           9       0.96      0.96      0.96       838\n",
      "\n",
      "    accuracy                           0.97      8400\n",
      "   macro avg       0.97      0.97      0.97      8400\n",
      "weighted avg       0.97      0.97      0.97      8400\n",
      "\n"
     ]
    }
   ],
   "source": [
    "# Test the SVM model\n",
    "y_pred = svm_model.predict(X_test)\n",
    "\n",
    "print(\"Accuracy:\", accuracy_score(y_test, y_pred))\n",
    "print(\"Classification Report:\\n\", classification_report(y_test, y_pred))"
   ]
  },
  {
   "cell_type": "markdown",
   "id": "49ffa22d",
   "metadata": {},
   "source": [
    "## Random Forest"
   ]
  },
  {
   "cell_type": "code",
   "execution_count": 14,
   "id": "516a5578",
   "metadata": {},
   "outputs": [],
   "source": [
    "# Create a Random Forest model\n",
    "rf_model = RandomForestClassifier(n_estimators=100, random_state=42)  # 100 trees"
   ]
  },
  {
   "cell_type": "code",
   "execution_count": 15,
   "id": "949fcae7",
   "metadata": {},
   "outputs": [
    {
     "data": {
      "text/plain": [
       "RandomForestClassifier(random_state=42)"
      ]
     },
     "execution_count": 15,
     "metadata": {},
     "output_type": "execute_result"
    }
   ],
   "source": [
    "# Train the Random Forest model\n",
    "rf_model.fit(X_train, y_train)"
   ]
  },
  {
   "cell_type": "code",
   "execution_count": 16,
   "id": "7e76154c",
   "metadata": {},
   "outputs": [
    {
     "name": "stdout",
     "output_type": "stream",
     "text": [
      "Accuracy: 0.9629761904761904\n",
      "Classification Report:\n",
      "               precision    recall  f1-score   support\n",
      "\n",
      "           0       0.98      0.98      0.98       816\n",
      "           1       0.98      0.99      0.99       909\n",
      "           2       0.96      0.96      0.96       846\n",
      "           3       0.96      0.95      0.96       937\n",
      "           4       0.96      0.97      0.96       839\n",
      "           5       0.96      0.96      0.96       702\n",
      "           6       0.96      0.98      0.97       785\n",
      "           7       0.97      0.95      0.96       893\n",
      "           8       0.95      0.95      0.95       835\n",
      "           9       0.93      0.94      0.94       838\n",
      "\n",
      "    accuracy                           0.96      8400\n",
      "   macro avg       0.96      0.96      0.96      8400\n",
      "weighted avg       0.96      0.96      0.96      8400\n",
      "\n"
     ]
    }
   ],
   "source": [
    "# Test the Random Forest model\n",
    "y_pred = rf_model.predict(X_test)\n",
    "\n",
    "print(\"Accuracy:\", accuracy_score(y_test, y_pred))\n",
    "print(\"Classification Report:\\n\", classification_report(y_test, y_pred))"
   ]
  },
  {
   "cell_type": "markdown",
   "id": "56e46a09",
   "metadata": {},
   "source": [
    "## XGBoost"
   ]
  },
  {
   "cell_type": "code",
   "execution_count": 17,
   "id": "9b79fcc8",
   "metadata": {},
   "outputs": [],
   "source": [
    "# Create an XGBoost Classifier\n",
    "xgb_model = xgb.XGBClassifier(\n",
    "    n_estimators=100,  # Number of trees\n",
    "    learning_rate=0.1,  # Learning rate\n",
    "    max_depth=6,  # Maximum depth of each tree\n",
    "    subsample=1.0,  # Fraction of samples to use for each tree\n",
    "    colsample_bytree=1.0,  # Fraction of features to use for each tree\n",
    "    random_state=42\n",
    ")"
   ]
  },
  {
   "cell_type": "code",
   "execution_count": 18,
   "id": "a22f812d",
   "metadata": {},
   "outputs": [
    {
     "data": {
      "text/plain": [
       "XGBClassifier(base_score=None, booster=None, callbacks=None,\n",
       "              colsample_bylevel=None, colsample_bynode=None,\n",
       "              colsample_bytree=1.0, device=None, early_stopping_rounds=None,\n",
       "              enable_categorical=False, eval_metric=None, feature_types=None,\n",
       "              gamma=None, grow_policy=None, importance_type=None,\n",
       "              interaction_constraints=None, learning_rate=0.1, max_bin=None,\n",
       "              max_cat_threshold=None, max_cat_to_onehot=None,\n",
       "              max_delta_step=None, max_depth=6, max_leaves=None,\n",
       "              min_child_weight=None, missing=nan, monotone_constraints=None,\n",
       "              multi_strategy=None, n_estimators=100, n_jobs=None,\n",
       "              num_parallel_tree=None, objective='multi:softprob', ...)"
      ]
     },
     "execution_count": 18,
     "metadata": {},
     "output_type": "execute_result"
    }
   ],
   "source": [
    "# Train the XGBoost model\n",
    "xgb_model.fit(X_train, y_train)"
   ]
  },
  {
   "cell_type": "code",
   "execution_count": 19,
   "id": "0dfc9988",
   "metadata": {},
   "outputs": [
    {
     "name": "stdout",
     "output_type": "stream",
     "text": [
      "Accuracy: 0.9647619047619047\n",
      "Classification Report:\n",
      "               precision    recall  f1-score   support\n",
      "\n",
      "           0       0.99      0.98      0.99       816\n",
      "           1       0.98      0.99      0.99       909\n",
      "           2       0.97      0.96      0.96       846\n",
      "           3       0.97      0.94      0.95       937\n",
      "           4       0.96      0.97      0.96       839\n",
      "           5       0.96      0.95      0.96       702\n",
      "           6       0.97      0.98      0.98       785\n",
      "           7       0.97      0.95      0.96       893\n",
      "           8       0.95      0.97      0.96       835\n",
      "           9       0.93      0.96      0.94       838\n",
      "\n",
      "    accuracy                           0.96      8400\n",
      "   macro avg       0.96      0.96      0.96      8400\n",
      "weighted avg       0.96      0.96      0.96      8400\n",
      "\n"
     ]
    }
   ],
   "source": [
    "# Test the model on the test set\n",
    "y_pred = xgb_model.predict(X_test)\n",
    "\n",
    "print(\"Accuracy:\", accuracy_score(y_test, y_pred))\n",
    "print(\"Classification Report:\\n\", classification_report(y_test, y_pred))"
   ]
  },
  {
   "cell_type": "markdown",
   "id": "34464eda",
   "metadata": {},
   "source": [
    "## Logistic Regression"
   ]
  },
  {
   "cell_type": "code",
   "execution_count": 20,
   "id": "33642ab5",
   "metadata": {},
   "outputs": [],
   "source": [
    "# Logistic Regression for Nominal Targets\n",
    "log_reg_model = LogisticRegression(multi_class='multinomial', solver='lbfgs', max_iter=1000)\n"
   ]
  },
  {
   "cell_type": "code",
   "execution_count": 21,
   "id": "9c7af426",
   "metadata": {},
   "outputs": [
    {
     "data": {
      "text/plain": [
       "LogisticRegression(max_iter=1000, multi_class='multinomial')"
      ]
     },
     "execution_count": 21,
     "metadata": {},
     "output_type": "execute_result"
    }
   ],
   "source": [
    "# Train the Model\n",
    "log_reg_model.fit(X_train, y_train)"
   ]
  },
  {
   "cell_type": "code",
   "execution_count": 22,
   "id": "fd9f26e7",
   "metadata": {},
   "outputs": [
    {
     "name": "stdout",
     "output_type": "stream",
     "text": [
      "Accuracy: 0.9189285714285714\n",
      "Classification Report:\n",
      "               precision    recall  f1-score   support\n",
      "\n",
      "           0       0.96      0.96      0.96       816\n",
      "           1       0.96      0.98      0.97       909\n",
      "           2       0.91      0.89      0.90       846\n",
      "           3       0.91      0.87      0.89       937\n",
      "           4       0.92      0.93      0.93       839\n",
      "           5       0.85      0.88      0.87       702\n",
      "           6       0.93      0.96      0.94       785\n",
      "           7       0.93      0.92      0.93       893\n",
      "           8       0.90      0.88      0.89       835\n",
      "           9       0.91      0.90      0.91       838\n",
      "\n",
      "    accuracy                           0.92      8400\n",
      "   macro avg       0.92      0.92      0.92      8400\n",
      "weighted avg       0.92      0.92      0.92      8400\n",
      "\n"
     ]
    }
   ],
   "source": [
    "# Predict and evaluate\n",
    "y_pred = log_reg_model.predict(X_test)\n",
    "\n",
    "print(\"Accuracy:\", accuracy_score(y_test, y_pred))\n",
    "print(\"Classification Report:\\n\", classification_report(y_test, y_pred))"
   ]
  },
  {
   "cell_type": "code",
   "execution_count": null,
   "id": "2768eb1d",
   "metadata": {},
   "outputs": [],
   "source": []
  }
 ],
 "metadata": {
  "kernelspec": {
   "display_name": "Python 3 (ipykernel)",
   "language": "python",
   "name": "python3"
  },
  "language_info": {
   "codemirror_mode": {
    "name": "ipython",
    "version": 3
   },
   "file_extension": ".py",
   "mimetype": "text/x-python",
   "name": "python",
   "nbconvert_exporter": "python",
   "pygments_lexer": "ipython3",
   "version": "3.10.2"
  }
 },
 "nbformat": 4,
 "nbformat_minor": 5
}
